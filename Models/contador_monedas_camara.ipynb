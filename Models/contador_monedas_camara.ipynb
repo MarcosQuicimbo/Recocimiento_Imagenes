{
 "cells": [
  {
   "cell_type": "code",
   "execution_count": 1,
   "metadata": {},
   "outputs": [],
   "source": [
    "import cv2\n",
    "import numpy as np "
   ]
  },
  {
   "cell_type": "code",
   "execution_count": 2,
   "metadata": {},
   "outputs": [],
   "source": [
    "def ordenarpuntos(puntos):\n",
    "    n_puntos=np.concatenate([puntos[0],puntos[1],puntos[2],puntos[3]]).tolist()\n",
    "    y_order=sorted(n_puntos,key=lambda n_puntos:n_puntos[1])\n",
    "    x1_order=y_order[:2]\n",
    "    x1_order=sorted(x1_order,key=lambda x1_order:x1_order[0])\n",
    "    x2_order=y_order[2:4]\n",
    "    x2_order=sorted(x2_order,key=lambda x2_order:x2_order[0])\n",
    "    return [x1_order[0],x1_order[1],x2_order[0],x2_order[1]]"
   ]
  },
  {
   "cell_type": "code",
   "execution_count": 3,
   "metadata": {},
   "outputs": [
    {
     "name": "stdout",
     "output_type": "stream",
     "text": [
      "Sumatoria total en Centimos: 0.0\n",
      "Sumatoria total en Centimos: 0.0\n",
      "Sumatoria total en Centimos: 0.0\n",
      "Sumatoria total en Centimos: 0.0\n",
      "Sumatoria total en Centimos: 0.0\n",
      "Sumatoria total en Centimos: 0.0\n"
     ]
    }
   ],
   "source": [
    "def alineamiento(imagen,ancho,alto):\n",
    "    imagen_alineada=None\n",
    "    grises=cv2.cvtColor(imagen, cv2.COLOR_BGR2GRAY)\n",
    "    tipoumbral,umbral=cv2.threshold(grises, 150,255, cv2.THRESH_BINARY)\n",
    "    cv2.imshow(\"Umbral\", umbral)\n",
    "    contorno=cv2.findContours(umbral, cv2.RETR_EXTERNAL, cv2.CHAIN_APPROX_SIMPLE)[0]\n",
    "    contorno=sorted(contorno,key=cv2.contourArea,reverse=True)[:1]\n",
    "    for c in contorno:\n",
    "        epsilon=0.01*cv2.arcLength(c, True)\n",
    "        approximacion=cv2.approxPolyDP(c, epsilon, True)\n",
    "        if len(approximacion)==4:\n",
    "            puntos=ordenarpuntos(approximacion)\n",
    "            puntos1=np.float32(puntos)\n",
    "            puntos2=np.float32([[0,0],[ancho,0],[0,alto],[ancho,alto]])\n",
    "            M = cv2.getPerspectiveTransform(puntos1, puntos2)\n",
    "            imagen_alineada=cv2.warpPerspective(imagen, M, (ancho,alto))\n",
    "    return imagen_alineada\n",
    "capturavideo= cv2.VideoCapture(0)\n",
    "\n",
    "while True:\n",
    "    tipocamara,camara=capturavideo.read()\n",
    "    if tipocamara==False:\n",
    "        break\n",
    "    imagen_A6=alineamiento(camara,ancho=480,alto=640)\n",
    "    if imagen_A6 is not None:\n",
    "        puntos=[]\n",
    "        imagen_gris=cv2.cvtColor(imagen_A6,cv2.COLOR_BGR2GRAY)\n",
    "        blur=cv2.GaussianBlur(imagen_gris,(5,5),1)\n",
    "        _,umbral2=cv2.threshold(blur,0,255,cv2.THRESH_OTSU+cv2.THRESH_BINARY_INV)\n",
    "        cv2.imshow(\"Umbral\",umbral2)\n",
    "        contorno2=cv2.findContours(umbral2, cv2.RETR_EXTERNAL, cv2.CHAIN_APPROX_SIMPLE)[0]\n",
    "        cv2.drawContours(imagen_A6, contorno2, -1, (255,0,0),2)\n",
    "        suma1=0.0\n",
    "        suma2=0.0\n",
    "        for c_2 in contorno2:\n",
    "            area=cv2.contourArea(c_2)\n",
    "            Momentos = cv2.moments(c_2)\n",
    "            if(Momentos[\"m00\"]==0):\n",
    "                Momentos[\"m00\"]=1.0\n",
    "            x=int(Momentos[\"m10\"]/Momentos[\"m00\"])\n",
    "            y=int(Momentos[\"m01\"]/Momentos[\"m00\"])\n",
    "\n",
    "            if area<9300 and area>8000:\n",
    "                font=cv2.FONT_HERSHEY_SIMPLEX\n",
    "                cv2.putText(imagen_A6, \"S/. 0.20\",(x,y) , font, 0.75, (0,255,0),2)\n",
    "                suma1=suma1+0.2\n",
    "            \n",
    "            if area<7800 and area>6500:\n",
    "                font=cv2.FONT_HERSHEY_SIMPLEX\n",
    "                cv2.putText(imagen_A6, \"S/. 0.10\",(x,y) , font, 0.75, (0,255,0),2)\n",
    "                suma2=suma2+0.1\n",
    "        total=suma1+suma2\n",
    "        print(\"Sumatoria total en Centimos:\",round(total,2))\n",
    "        cv2.imshow(\"Imagen A6\", imagen_A6)\n",
    "        cv2.imshow(\"camara\", camara)\n",
    "    if cv2.waitKey(1) == ord('s'):\n",
    "        break\n",
    "capturavideo.release()\n",
    "cv2.destroyAllWindows()\n",
    "\n"
   ]
  }
 ],
 "metadata": {
  "kernelspec": {
   "display_name": "image_recognition",
   "language": "python",
   "name": "python3"
  },
  "language_info": {
   "codemirror_mode": {
    "name": "ipython",
    "version": 3
   },
   "file_extension": ".py",
   "mimetype": "text/x-python",
   "name": "python",
   "nbconvert_exporter": "python",
   "pygments_lexer": "ipython3",
   "version": "3.12.0"
  }
 },
 "nbformat": 4,
 "nbformat_minor": 2
}
