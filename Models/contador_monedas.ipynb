{
 "cells": [
  {
   "cell_type": "code",
   "execution_count": 64,
   "metadata": {},
   "outputs": [],
   "source": [
    "import cv2\n",
    "import numpy as np "
   ]
  },
  {
   "cell_type": "code",
   "execution_count": 65,
   "metadata": {},
   "outputs": [],
   "source": [
    "valor_gauss = 3\n",
    "valor_kernel = 5s\n",
    "#original = cv2.imread('../Images/monedas.jpg')\n",
    "original = cv2.imread('../Images/monedassoles.jpg')\n",
    "\n",
    "# imagenes a gris \n",
    "gris = cv2.cvtColor(original, cv2.COLOR_BGR2GRAY)\n",
    "# suavisado - desenfoque \n",
    "gauss = cv2.GaussianBlur(gris,(valor_gauss, valor_gauss), 0)\n",
    "#degradado canny deteccion de bordes\n",
    "canny = cv2.Canny(gauss, 60, 100)\n",
    "# matriz de unos \n",
    "kernel = np.ones((valor_kernel, valor_kernel), np.uint8)\n",
    "# cierre se enfoca en la imagen principal \n",
    "# clausura, limpia el ruido dentro de la imagen \n",
    "cierre = cv2.morphologyEx(canny,cv2.MORPH_CLOSE, kernel)\n",
    "\n",
    "contornos, jerarquia = cv2.findContours(cierre.copy(),cv2.RETR_EXTERNAL,cv2.CHAIN_APPROX_NONE )\n"
   ]
  },
  {
   "cell_type": "code",
   "execution_count": 66,
   "metadata": {},
   "outputs": [
    {
     "name": "stdout",
     "output_type": "stream",
     "text": [
      "Monedas encontradas: 10\n"
     ]
    }
   ],
   "source": [
    "print(\"Monedas encontradas: {}\".format(len(contornos)))"
   ]
  },
  {
   "cell_type": "code",
   "execution_count": 67,
   "metadata": {},
   "outputs": [
    {
     "data": {
      "text/plain": [
       "array([[[236, 231, 232],\n",
       "        [236, 231, 232],\n",
       "        [236, 231, 232],\n",
       "        ...,\n",
       "        [253, 248, 249],\n",
       "        [253, 248, 249],\n",
       "        [253, 248, 249]],\n",
       "\n",
       "       [[236, 231, 232],\n",
       "        [236, 231, 232],\n",
       "        [236, 231, 232],\n",
       "        ...,\n",
       "        [253, 248, 249],\n",
       "        [253, 248, 249],\n",
       "        [253, 248, 249]],\n",
       "\n",
       "       [[236, 231, 232],\n",
       "        [236, 231, 232],\n",
       "        [236, 231, 232],\n",
       "        ...,\n",
       "        [253, 248, 249],\n",
       "        [253, 248, 249],\n",
       "        [253, 248, 249]],\n",
       "\n",
       "       ...,\n",
       "\n",
       "       [[245, 240, 241],\n",
       "        [245, 240, 241],\n",
       "        [245, 240, 241],\n",
       "        ...,\n",
       "        [255, 250, 251],\n",
       "        [255, 250, 251],\n",
       "        [255, 250, 251]],\n",
       "\n",
       "       [[245, 240, 241],\n",
       "        [245, 240, 241],\n",
       "        [245, 240, 241],\n",
       "        ...,\n",
       "        [255, 250, 251],\n",
       "        [255, 250, 251],\n",
       "        [255, 250, 251]],\n",
       "\n",
       "       [[245, 240, 241],\n",
       "        [245, 240, 241],\n",
       "        [245, 240, 241],\n",
       "        ...,\n",
       "        [255, 250, 251],\n",
       "        [255, 250, 251],\n",
       "        [255, 250, 251]]], dtype=uint8)"
      ]
     },
     "execution_count": 67,
     "metadata": {},
     "output_type": "execute_result"
    }
   ],
   "source": [
    "cv2.drawContours(original,contornos, -1, (255,0,0), 2)"
   ]
  },
  {
   "cell_type": "code",
   "execution_count": 68,
   "metadata": {},
   "outputs": [],
   "source": [
    "# Mostrar resultados \n",
    "#cv2.imshow(\"Imagen original\", original)\n",
    "#cv2.imshow(\"Imagen grises\", gris)\n",
    "#cv2.imshow(\"Imagen Gauss\", gauss)\n",
    "#cv2.imshow(\"Imagen Canny\", canny)\n",
    "cv2.imshow(\"Cierre\", cierre)\n",
    "cv2.imshow(\"Imagen tratada\", original)\n",
    "cv2.waitKey(0)\n",
    "cv2.destroyAllWindows()"
   ]
  },
  {
   "cell_type": "code",
   "execution_count": 69,
   "metadata": {},
   "outputs": [
    {
     "name": "stdout",
     "output_type": "stream",
     "text": [
      "[[1 1 1]\n",
      " [1 1 1]\n",
      " [1 1 1]]\n"
     ]
    }
   ],
   "source": [
    "print(np.ones((valor_gauss, valor_gauss),np.uint8))"
   ]
  }
 ],
 "metadata": {
  "kernelspec": {
   "display_name": "image_recognition",
   "language": "python",
   "name": "python3"
  },
  "language_info": {
   "codemirror_mode": {
    "name": "ipython",
    "version": 3
   },
   "file_extension": ".py",
   "mimetype": "text/x-python",
   "name": "python",
   "nbconvert_exporter": "python",
   "pygments_lexer": "ipython3",
   "version": "3.12.0"
  }
 },
 "nbformat": 4,
 "nbformat_minor": 2
}
