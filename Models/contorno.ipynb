{
 "cells": [
  {
   "cell_type": "code",
   "execution_count": 1,
   "metadata": {},
   "outputs": [],
   "source": [
    "import cv2"
   ]
  },
  {
   "cell_type": "code",
   "execution_count": 2,
   "metadata": {},
   "outputs": [],
   "source": [
    "# Read the image\n",
    "image = cv2.imread('../Images/contorno.jpg')\n",
    "grises = cv2.cvtColor(image,cv2.COLOR_BGR2GRAY)\n",
    "# _, igora esa variable, ignora la primer variable\n",
    "tipo_umbral,umbral = cv2.threshold(grises, 100, 255, cv2.THRESH_BINARY)"
   ]
  },
  {
   "cell_type": "code",
   "execution_count": 4,
   "metadata": {},
   "outputs": [],
   "source": [
    "contorno, jerarquia = cv2.findContours(umbral, cv2.RETR_LIST, cv2.CHAIN_APPROX_SIMPLE)"
   ]
  },
  {
   "cell_type": "code",
   "execution_count": 11,
   "metadata": {},
   "outputs": [
    {
     "data": {
      "text/plain": [
       "array([[[251,  60,  50],\n",
       "        [251,  60,  50],\n",
       "        [251,  60,  50],\n",
       "        ...,\n",
       "        [251,  60,  50],\n",
       "        [251,  60,  50],\n",
       "        [251,  60,  50]],\n",
       "\n",
       "       [[251,  60,  50],\n",
       "        [251,  60,  50],\n",
       "        [251,  60,  50],\n",
       "        ...,\n",
       "        [251,  60,  50],\n",
       "        [251,  60,  50],\n",
       "        [251,  60,  50]],\n",
       "\n",
       "       [[251,  60,  50],\n",
       "        [251,  60,  50],\n",
       "        [251,  60,  50],\n",
       "        ...,\n",
       "        [251,  60,  50],\n",
       "        [251,  60,  50],\n",
       "        [251,  60,  50]],\n",
       "\n",
       "       ...,\n",
       "\n",
       "       [[251,  60,  50],\n",
       "        [251,  60,  50],\n",
       "        [251,  60,  50],\n",
       "        ...,\n",
       "        [251,  60,  50],\n",
       "        [251,  60,  50],\n",
       "        [251,  60,  50]],\n",
       "\n",
       "       [[251,  60,  50],\n",
       "        [251,  60,  50],\n",
       "        [251,  60,  50],\n",
       "        ...,\n",
       "        [251,  60,  50],\n",
       "        [251,  60,  50],\n",
       "        [251,  60,  50]],\n",
       "\n",
       "       [[251,  60,  50],\n",
       "        [251,  60,  50],\n",
       "        [251,  60,  50],\n",
       "        ...,\n",
       "        [251,  60,  50],\n",
       "        [251,  60,  50],\n",
       "        [251,  60,  50]]], dtype=uint8)"
      ]
     },
     "execution_count": 11,
     "metadata": {},
     "output_type": "execute_result"
    }
   ],
   "source": [
    "cv2.drawContours(image, contorno, -1,(251, 60, 50), 3)"
   ]
  },
  {
   "cell_type": "code",
   "execution_count": 12,
   "metadata": {},
   "outputs": [],
   "source": [
    "# Display the image \n",
    "cv2.imshow(\"Imagen original\", image)\n",
    "cv2.imshow(\"Imagen grises\", grises)\n",
    "cv2.imshow(\"Imagen umbral\", umbral)\n",
    "\n",
    "cv2.waitKey(0)\n",
    "cv2.destroyAllWindows()"
   ]
  }
 ],
 "metadata": {
  "kernelspec": {
   "display_name": "image_recognition",
   "language": "python",
   "name": "python3"
  },
  "language_info": {
   "codemirror_mode": {
    "name": "ipython",
    "version": 3
   },
   "file_extension": ".py",
   "mimetype": "text/x-python",
   "name": "python",
   "nbconvert_exporter": "python",
   "pygments_lexer": "ipython3",
   "version": "3.12.0"
  }
 },
 "nbformat": 4,
 "nbformat_minor": 2
}
